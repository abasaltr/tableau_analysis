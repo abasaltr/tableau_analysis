{
 "cells": [
  {
   "cell_type": "markdown",
   "metadata": {},
   "source": [
    "# Extract CitiBike Data\n",
    "----\n",
    "\n",
    "#### Note\n",
    "* Dataset extract from CSV"
   ]
  },
  {
   "cell_type": "code",
   "execution_count": 1,
   "metadata": {},
   "outputs": [
    {
     "name": "stdout",
     "output_type": "stream",
     "text": [
      "12/22/20\n",
      "122220\n"
     ]
    }
   ],
   "source": [
    "# Interactive plots\n",
    "%matplotlib notebook\n",
    "\n",
    "# Dependencies and Setup\n",
    "import requests\n",
    "import random\n",
    "import json\n",
    "import ast\n",
    "import os\n",
    "import datetime\n",
    "import pandas as pd\n",
    "import numpy as np\n",
    "\n",
    "# Set by selecting a datasource import type (CSV or API)\n",
    "#source = 'api'\n",
    "source = 'csv'\n",
    "\n",
    "# Set variable for current date using datetime library\n",
    "today = datetime.date.today()\n",
    "\n",
    "# Set todays date as active and formatted as mm/dd/yy for API import\n",
    "date = today.strftime('%m/%d/%y')\n",
    "datef = today.strftime('%m%d%y')\n",
    "\n",
    "# Set a specific date as active parameter for CSV import\n",
    "#date = '12/22/20'\n",
    "#datef = '122220'\n",
    "\n",
    "# Print active date\n",
    "print(date)\n",
    "print(datef)"
   ]
  },
  {
   "cell_type": "code",
   "execution_count": null,
   "metadata": {},
   "outputs": [],
   "source": []
  }
 ],
 "metadata": {
  "kernelspec": {
   "display_name": "Python 3",
   "language": "python",
   "name": "python3"
  },
  "language_info": {
   "codemirror_mode": {
    "name": "ipython",
    "version": 3
   },
   "file_extension": ".py",
   "mimetype": "text/x-python",
   "name": "python",
   "nbconvert_exporter": "python",
   "pygments_lexer": "ipython3",
   "version": "3.8.3"
  }
 },
 "nbformat": 4,
 "nbformat_minor": 4
}
